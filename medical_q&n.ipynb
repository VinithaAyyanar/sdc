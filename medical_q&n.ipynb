{
  "nbformat": 4,
  "nbformat_minor": 0,
  "metadata": {
    "colab": {
      "provenance": [],
      "authorship_tag": "ABX9TyOQMVnLdBRR1WYp/702yxam",
      "include_colab_link": true
    },
    "kernelspec": {
      "name": "python3",
      "display_name": "Python 3"
    },
    "language_info": {
      "name": "python"
    }
  },
  "cells": [
    {
      "cell_type": "markdown",
      "metadata": {
        "id": "view-in-github",
        "colab_type": "text"
      },
      "source": [
        "<a href=\"https://colab.research.google.com/github/VinithaAyyanar/sdc/blob/main/medical_q%26n.ipynb\" target=\"_parent\"><img src=\"https://colab.research.google.com/assets/colab-badge.svg\" alt=\"Open In Colab\"/></a>"
      ]
    },
    {
      "cell_type": "code",
      "source": [
        "!pip install langchain faiss-cpu biopython sentence-transformers\n"
      ],
      "metadata": {
        "colab": {
          "base_uri": "https://localhost:8080/"
        },
        "id": "fAnjnHp0_GtI",
        "outputId": "ab1bbb7a-b68b-42e0-8618-ddea2fa5c55f"
      },
      "execution_count": 32,
      "outputs": [
        {
          "output_type": "stream",
          "name": "stdout",
          "text": [
            "Requirement already satisfied: langchain in /usr/local/lib/python3.11/dist-packages (0.3.23)\n",
            "Requirement already satisfied: faiss-cpu in /usr/local/lib/python3.11/dist-packages (1.10.0)\n",
            "Collecting biopython\n",
            "  Downloading biopython-1.85-cp311-cp311-manylinux_2_17_x86_64.manylinux2014_x86_64.whl.metadata (13 kB)\n",
            "Requirement already satisfied: sentence-transformers in /usr/local/lib/python3.11/dist-packages (3.4.1)\n",
            "Requirement already satisfied: langchain-core<1.0.0,>=0.3.51 in /usr/local/lib/python3.11/dist-packages (from langchain) (0.3.51)\n",
            "Requirement already satisfied: langchain-text-splitters<1.0.0,>=0.3.8 in /usr/local/lib/python3.11/dist-packages (from langchain) (0.3.8)\n",
            "Requirement already satisfied: langsmith<0.4,>=0.1.17 in /usr/local/lib/python3.11/dist-packages (from langchain) (0.3.28)\n",
            "Requirement already satisfied: pydantic<3.0.0,>=2.7.4 in /usr/local/lib/python3.11/dist-packages (from langchain) (2.11.3)\n",
            "Requirement already satisfied: SQLAlchemy<3,>=1.4 in /usr/local/lib/python3.11/dist-packages (from langchain) (2.0.40)\n",
            "Requirement already satisfied: requests<3,>=2 in /usr/local/lib/python3.11/dist-packages (from langchain) (2.32.3)\n",
            "Requirement already satisfied: PyYAML>=5.3 in /usr/local/lib/python3.11/dist-packages (from langchain) (6.0.2)\n",
            "Requirement already satisfied: numpy<3.0,>=1.25.0 in /usr/local/lib/python3.11/dist-packages (from faiss-cpu) (2.0.2)\n",
            "Requirement already satisfied: packaging in /usr/local/lib/python3.11/dist-packages (from faiss-cpu) (24.2)\n",
            "Requirement already satisfied: transformers<5.0.0,>=4.41.0 in /usr/local/lib/python3.11/dist-packages (from sentence-transformers) (4.51.1)\n",
            "Requirement already satisfied: tqdm in /usr/local/lib/python3.11/dist-packages (from sentence-transformers) (4.67.1)\n",
            "Requirement already satisfied: torch>=1.11.0 in /usr/local/lib/python3.11/dist-packages (from sentence-transformers) (2.6.0+cu124)\n",
            "Requirement already satisfied: scikit-learn in /usr/local/lib/python3.11/dist-packages (from sentence-transformers) (1.6.1)\n",
            "Requirement already satisfied: scipy in /usr/local/lib/python3.11/dist-packages (from sentence-transformers) (1.14.1)\n",
            "Requirement already satisfied: huggingface-hub>=0.20.0 in /usr/local/lib/python3.11/dist-packages (from sentence-transformers) (0.30.2)\n",
            "Requirement already satisfied: Pillow in /usr/local/lib/python3.11/dist-packages (from sentence-transformers) (11.1.0)\n",
            "Requirement already satisfied: filelock in /usr/local/lib/python3.11/dist-packages (from huggingface-hub>=0.20.0->sentence-transformers) (3.18.0)\n",
            "Requirement already satisfied: fsspec>=2023.5.0 in /usr/local/lib/python3.11/dist-packages (from huggingface-hub>=0.20.0->sentence-transformers) (2025.3.2)\n",
            "Requirement already satisfied: typing-extensions>=3.7.4.3 in /usr/local/lib/python3.11/dist-packages (from huggingface-hub>=0.20.0->sentence-transformers) (4.13.1)\n",
            "Requirement already satisfied: tenacity!=8.4.0,<10.0.0,>=8.1.0 in /usr/local/lib/python3.11/dist-packages (from langchain-core<1.0.0,>=0.3.51->langchain) (9.1.2)\n",
            "Requirement already satisfied: jsonpatch<2.0,>=1.33 in /usr/local/lib/python3.11/dist-packages (from langchain-core<1.0.0,>=0.3.51->langchain) (1.33)\n",
            "Requirement already satisfied: httpx<1,>=0.23.0 in /usr/local/lib/python3.11/dist-packages (from langsmith<0.4,>=0.1.17->langchain) (0.28.1)\n",
            "Requirement already satisfied: orjson<4.0.0,>=3.9.14 in /usr/local/lib/python3.11/dist-packages (from langsmith<0.4,>=0.1.17->langchain) (3.10.16)\n",
            "Requirement already satisfied: requests-toolbelt<2.0.0,>=1.0.0 in /usr/local/lib/python3.11/dist-packages (from langsmith<0.4,>=0.1.17->langchain) (1.0.0)\n",
            "Requirement already satisfied: zstandard<0.24.0,>=0.23.0 in /usr/local/lib/python3.11/dist-packages (from langsmith<0.4,>=0.1.17->langchain) (0.23.0)\n",
            "Requirement already satisfied: annotated-types>=0.6.0 in /usr/local/lib/python3.11/dist-packages (from pydantic<3.0.0,>=2.7.4->langchain) (0.7.0)\n",
            "Requirement already satisfied: pydantic-core==2.33.1 in /usr/local/lib/python3.11/dist-packages (from pydantic<3.0.0,>=2.7.4->langchain) (2.33.1)\n",
            "Requirement already satisfied: typing-inspection>=0.4.0 in /usr/local/lib/python3.11/dist-packages (from pydantic<3.0.0,>=2.7.4->langchain) (0.4.0)\n",
            "Requirement already satisfied: charset-normalizer<4,>=2 in /usr/local/lib/python3.11/dist-packages (from requests<3,>=2->langchain) (3.4.1)\n",
            "Requirement already satisfied: idna<4,>=2.5 in /usr/local/lib/python3.11/dist-packages (from requests<3,>=2->langchain) (3.10)\n",
            "Requirement already satisfied: urllib3<3,>=1.21.1 in /usr/local/lib/python3.11/dist-packages (from requests<3,>=2->langchain) (2.3.0)\n",
            "Requirement already satisfied: certifi>=2017.4.17 in /usr/local/lib/python3.11/dist-packages (from requests<3,>=2->langchain) (2025.1.31)\n",
            "Requirement already satisfied: greenlet>=1 in /usr/local/lib/python3.11/dist-packages (from SQLAlchemy<3,>=1.4->langchain) (3.1.1)\n",
            "Requirement already satisfied: networkx in /usr/local/lib/python3.11/dist-packages (from torch>=1.11.0->sentence-transformers) (3.4.2)\n",
            "Requirement already satisfied: jinja2 in /usr/local/lib/python3.11/dist-packages (from torch>=1.11.0->sentence-transformers) (3.1.6)\n",
            "Requirement already satisfied: nvidia-cuda-nvrtc-cu12==12.4.127 in /usr/local/lib/python3.11/dist-packages (from torch>=1.11.0->sentence-transformers) (12.4.127)\n",
            "Requirement already satisfied: nvidia-cuda-runtime-cu12==12.4.127 in /usr/local/lib/python3.11/dist-packages (from torch>=1.11.0->sentence-transformers) (12.4.127)\n",
            "Requirement already satisfied: nvidia-cuda-cupti-cu12==12.4.127 in /usr/local/lib/python3.11/dist-packages (from torch>=1.11.0->sentence-transformers) (12.4.127)\n",
            "Requirement already satisfied: nvidia-cudnn-cu12==9.1.0.70 in /usr/local/lib/python3.11/dist-packages (from torch>=1.11.0->sentence-transformers) (9.1.0.70)\n",
            "Requirement already satisfied: nvidia-cublas-cu12==12.4.5.8 in /usr/local/lib/python3.11/dist-packages (from torch>=1.11.0->sentence-transformers) (12.4.5.8)\n",
            "Requirement already satisfied: nvidia-cufft-cu12==11.2.1.3 in /usr/local/lib/python3.11/dist-packages (from torch>=1.11.0->sentence-transformers) (11.2.1.3)\n",
            "Requirement already satisfied: nvidia-curand-cu12==10.3.5.147 in /usr/local/lib/python3.11/dist-packages (from torch>=1.11.0->sentence-transformers) (10.3.5.147)\n",
            "Requirement already satisfied: nvidia-cusolver-cu12==11.6.1.9 in /usr/local/lib/python3.11/dist-packages (from torch>=1.11.0->sentence-transformers) (11.6.1.9)\n",
            "Requirement already satisfied: nvidia-cusparse-cu12==12.3.1.170 in /usr/local/lib/python3.11/dist-packages (from torch>=1.11.0->sentence-transformers) (12.3.1.170)\n",
            "Requirement already satisfied: nvidia-cusparselt-cu12==0.6.2 in /usr/local/lib/python3.11/dist-packages (from torch>=1.11.0->sentence-transformers) (0.6.2)\n",
            "Requirement already satisfied: nvidia-nccl-cu12==2.21.5 in /usr/local/lib/python3.11/dist-packages (from torch>=1.11.0->sentence-transformers) (2.21.5)\n",
            "Requirement already satisfied: nvidia-nvtx-cu12==12.4.127 in /usr/local/lib/python3.11/dist-packages (from torch>=1.11.0->sentence-transformers) (12.4.127)\n",
            "Requirement already satisfied: nvidia-nvjitlink-cu12==12.4.127 in /usr/local/lib/python3.11/dist-packages (from torch>=1.11.0->sentence-transformers) (12.4.127)\n",
            "Requirement already satisfied: triton==3.2.0 in /usr/local/lib/python3.11/dist-packages (from torch>=1.11.0->sentence-transformers) (3.2.0)\n",
            "Requirement already satisfied: sympy==1.13.1 in /usr/local/lib/python3.11/dist-packages (from torch>=1.11.0->sentence-transformers) (1.13.1)\n",
            "Requirement already satisfied: mpmath<1.4,>=1.1.0 in /usr/local/lib/python3.11/dist-packages (from sympy==1.13.1->torch>=1.11.0->sentence-transformers) (1.3.0)\n",
            "Requirement already satisfied: regex!=2019.12.17 in /usr/local/lib/python3.11/dist-packages (from transformers<5.0.0,>=4.41.0->sentence-transformers) (2024.11.6)\n",
            "Requirement already satisfied: tokenizers<0.22,>=0.21 in /usr/local/lib/python3.11/dist-packages (from transformers<5.0.0,>=4.41.0->sentence-transformers) (0.21.1)\n",
            "Requirement already satisfied: safetensors>=0.4.3 in /usr/local/lib/python3.11/dist-packages (from transformers<5.0.0,>=4.41.0->sentence-transformers) (0.5.3)\n",
            "Requirement already satisfied: joblib>=1.2.0 in /usr/local/lib/python3.11/dist-packages (from scikit-learn->sentence-transformers) (1.4.2)\n",
            "Requirement already satisfied: threadpoolctl>=3.1.0 in /usr/local/lib/python3.11/dist-packages (from scikit-learn->sentence-transformers) (3.6.0)\n",
            "Requirement already satisfied: anyio in /usr/local/lib/python3.11/dist-packages (from httpx<1,>=0.23.0->langsmith<0.4,>=0.1.17->langchain) (4.9.0)\n",
            "Requirement already satisfied: httpcore==1.* in /usr/local/lib/python3.11/dist-packages (from httpx<1,>=0.23.0->langsmith<0.4,>=0.1.17->langchain) (1.0.7)\n",
            "Requirement already satisfied: h11<0.15,>=0.13 in /usr/local/lib/python3.11/dist-packages (from httpcore==1.*->httpx<1,>=0.23.0->langsmith<0.4,>=0.1.17->langchain) (0.14.0)\n",
            "Requirement already satisfied: jsonpointer>=1.9 in /usr/local/lib/python3.11/dist-packages (from jsonpatch<2.0,>=1.33->langchain-core<1.0.0,>=0.3.51->langchain) (3.0.0)\n",
            "Requirement already satisfied: MarkupSafe>=2.0 in /usr/local/lib/python3.11/dist-packages (from jinja2->torch>=1.11.0->sentence-transformers) (3.0.2)\n",
            "Requirement already satisfied: sniffio>=1.1 in /usr/local/lib/python3.11/dist-packages (from anyio->httpx<1,>=0.23.0->langsmith<0.4,>=0.1.17->langchain) (1.3.1)\n",
            "Downloading biopython-1.85-cp311-cp311-manylinux_2_17_x86_64.manylinux2014_x86_64.whl (3.3 MB)\n",
            "\u001b[2K   \u001b[90m━━━━━━━━━━━━━━━━━━━━━━━━━━━━━━━━━━━━━━━━\u001b[0m \u001b[32m3.3/3.3 MB\u001b[0m \u001b[31m39.2 MB/s\u001b[0m eta \u001b[36m0:00:00\u001b[0m\n",
            "\u001b[?25hInstalling collected packages: biopython\n",
            "Successfully installed biopython-1.85\n"
          ]
        }
      ]
    },
    {
      "cell_type": "code",
      "source": [
        "from sentence_transformers import SentenceTransformer\n",
        "import faiss\n",
        "import numpy as np\n",
        "\n",
        "# Step 1: Predefined set of medical articles (replace fetch_pubmed_articles)\n",
        "def fetch_medical_articles():\n",
        "    # Example set of predefined abstracts (you can manually add more)\n",
        "    return [\n",
        "        \"Title: Treatment of COVID-19\\nAbstract: COVID-19 treatment typically involves supportive care, rest, hydration, and medications for pain and fever. In some cases, antiviral medications or oxygen therapy may be needed.\",\n",
        "        \"Title: Cancer Treatments\\nAbstract: Cancer treatment involves surgery, chemotherapy, radiation therapy, and immunotherapy. The treatment plan is based on the type and stage of cancer.\",\n",
        "        \"Title: Diabetes Management\\nAbstract: Diabetes management involves monitoring blood sugar levels, medication, diet control, and regular physical activity.\"\n",
        "    ]\n",
        "\n",
        "# Step 2: Split documents into smaller chunks (if needed)\n",
        "def split_documents(documents):\n",
        "    return documents  # In this case, no splitting is needed for predefined docs.\n",
        "\n",
        "# Step 3: Generate embeddings for documents\n",
        "def generate_embeddings(docs):\n",
        "    model = SentenceTransformer('all-MiniLM-L6-v2')  # Initialize the sentence transformer model\n",
        "    embeddings = model.encode(docs)  # Create embeddings for documents\n",
        "    return embeddings\n",
        "\n",
        "# Step 4: Build FAISS index\n",
        "def build_faiss_index(embeddings):\n",
        "    index = faiss.IndexFlatL2(embeddings.shape[1])  # Create an index for L2 distance\n",
        "    index.add(np.array(embeddings))  # Add document embeddings to the index\n",
        "    return index\n",
        "\n",
        "# Step 5: Retrieve relevant document for a query\n",
        "def retrieve_relevant_document(query, index, docs):\n",
        "    model = SentenceTransformer('all-MiniLM-L6-v2')  # Ensure the model is loaded\n",
        "    query_embedding = model.encode([query])  # Encode the query into embeddings\n",
        "    D, I = index.search(np.array(query_embedding), k=1)  # Search for the closest document\n",
        "    return docs[I[0][0]]  # Return the document text for the most relevant match\n",
        "\n",
        "# Step 6: Summarize the articles based on the query\n",
        "def summarize_medical_articles(query):\n",
        "    medical_articles = fetch_medical_articles()  # Fetch predefined articles\n",
        "    docs = split_documents(medical_articles)  # Split documents into smaller chunks\n",
        "    embeddings = generate_embeddings(docs)  # Generate embeddings for the documents\n",
        "    index = build_faiss_index(embeddings)  # Build FAISS index\n",
        "    result = retrieve_relevant_document(query, index, docs)  # Retrieve relevant document\n",
        "    return result\n",
        "\n",
        "# Example usage\n",
        "if __name__ == \"__main__\":\n",
        "    query = \"COVID-19 treatment\"\n",
        "    result = summarize_medical_articles(query)\n",
        "    print(f\"Question: {query}\")\n",
        "    print(f\"Answer: {result}\")\n"
      ],
      "metadata": {
        "colab": {
          "base_uri": "https://localhost:8080/"
        },
        "id": "DbtwgDKNB_2K",
        "outputId": "f7adda48-8a81-4384-e7b9-2dff4703ee03"
      },
      "execution_count": 35,
      "outputs": [
        {
          "output_type": "stream",
          "name": "stdout",
          "text": [
            "Question: COVID-19 treatment\n",
            "Answer: Title: Treatment of COVID-19\n",
            "Abstract: COVID-19 treatment typically involves supportive care, rest, hydration, and medications for pain and fever. In some cases, antiviral medications or oxygen therapy may be needed.\n"
          ]
        }
      ]
    },
    {
      "cell_type": "code",
      "source": [
        "from sentence_transformers import SentenceTransformer\n",
        "import faiss\n",
        "import numpy as np\n",
        "\n",
        "# Step 1: Predefined set of medical articles (now with 13 articles)\n",
        "def fetch_medical_articles():\n",
        "    # Example set of predefined medical abstracts\n",
        "    return [\n",
        "        \"Title: Treatment of COVID-19\\nAbstract: COVID-19 treatment typically involves supportive care, rest, hydration, and medications for pain and fever. In some cases, antiviral medications or oxygen therapy may be needed.\",\n",
        "        \"Title: Cancer Treatments\\nAbstract: Cancer treatment involves surgery, chemotherapy, radiation therapy, and immunotherapy. The treatment plan is based on the type and stage of cancer.\",\n",
        "        \"Title: Diabetes Management\\nAbstract: Diabetes management involves monitoring blood sugar levels, medication, diet control, and regular physical activity.\",\n",
        "        \"Title: Hypertension Treatment\\nAbstract: Hypertension treatment includes lifestyle changes, medication for blood pressure control, and regular monitoring to prevent cardiovascular risks.\",\n",
        "        \"Title: Asthma Management\\nAbstract: Asthma management involves avoiding triggers, using inhalers for relief, and regular monitoring of lung function with medications like bronchodilators and corticosteroids.\",\n",
        "        \"Title: Stroke Rehabilitation\\nAbstract: Stroke rehabilitation focuses on physical therapy, speech therapy, and occupational therapy to help patients regain motor skills and independence.\",\n",
        "        \"Title: Alzheimer’s Disease\\nAbstract: Alzheimer's disease treatment includes medication for memory loss and behavioral symptoms, along with lifestyle changes to improve quality of life.\",\n",
        "        \"Title: Migraine Treatment\\nAbstract: Migraine treatment typically involves pain relief medications, anti-nausea medications, and lifestyle changes to manage triggers.\",\n",
        "        \"Title: Obesity Management\\nAbstract: Obesity management includes diet modification, regular exercise, behavioral therapy, and in some cases, medication or surgery.\",\n",
        "        \"Title: Heart Disease Treatment\\nAbstract: Heart disease treatment includes medication to control blood pressure and cholesterol, lifestyle changes, and possibly surgical interventions such as bypass surgery.\",\n",
        "        \"Title: Kidney Disease\\nAbstract: Kidney disease treatment includes medication to manage symptoms, dietary changes, and dialysis or kidney transplant in severe cases.\",\n",
        "        \"Title: Depression Treatment\\nAbstract: Depression treatment involves a combination of medications like antidepressants, psychotherapy, and lifestyle changes.\",\n",
        "        \"Title: Anxiety Disorders\\nAbstract: Anxiety disorder treatment often includes therapy (e.g., cognitive-behavioral therapy), medications, and lifestyle changes like relaxation techniques.\"\n",
        "    ]\n",
        "\n",
        "# Step 2: Split documents into smaller chunks (if needed)\n",
        "def split_documents(documents):\n",
        "    return documents  # No splitting needed for this example\n",
        "\n",
        "# Step 3: Generate embeddings for documents\n",
        "def generate_embeddings(docs):\n",
        "    model = SentenceTransformer('all-MiniLM-L6-v2')  # Initialize the sentence transformer model\n",
        "    embeddings = model.encode(docs)  # Create embeddings for documents\n",
        "    return embeddings\n",
        "\n",
        "# Step 4: Build FAISS index\n",
        "def build_faiss_index(embeddings):\n",
        "    index = faiss.IndexFlatL2(embeddings.shape[1])  # Create an index for L2 distance\n",
        "    index.add(np.array(embeddings))  # Add document embeddings to the index\n",
        "    return index\n",
        "\n",
        "# Step 5: Retrieve relevant document for a query\n",
        "def retrieve_relevant_document(query, index, docs):\n",
        "    model = SentenceTransformer('all-MiniLM-L6-v2')  # Ensure the model is loaded\n",
        "    query_embedding = model.encode([query])  # Encode the query into embeddings\n",
        "    D, I = index.search(np.array(query_embedding), k=1)  # Search for the closest document\n",
        "    return docs[I[0][0]]  # Return the document text for the most relevant match\n",
        "\n",
        "# Step 6: Interactive Q&A session\n",
        "def interactive_qa():\n",
        "    # Fetch predefined medical articles\n",
        "    medical_articles = fetch_medical_articles()\n",
        "    docs = split_documents(medical_articles)  # Split documents if needed\n",
        "    embeddings = generate_embeddings(docs)  # Generate embeddings for the documents\n",
        "    index = build_faiss_index(embeddings)  # Build FAISS index\n",
        "\n",
        "    print(\"Welcome to the Medical Q&A session! Ask your questions about medical topics.\")\n",
        "    print(\"Type 'exit' to quit the session.\\n\")\n",
        "\n",
        "    while True:\n",
        "        query = input(\"Ask a question: \")\n",
        "\n",
        "        if query.lower() == \"exit\":\n",
        "            print(\"Ending the Q&A session.\")\n",
        "            break\n",
        "\n",
        "        result = retrieve_relevant_document(query, index, docs)  # Retrieve answer for the query\n",
        "        print(f\"\\nAnswer: {result}\\n\")\n",
        "\n",
        "# Start interactive Q&A session\n",
        "if __name__ == \"__main__\":\n",
        "    interactive_qa()\n"
      ],
      "metadata": {
        "colab": {
          "base_uri": "https://localhost:8080/"
        },
        "id": "lVb4UiDICfJy",
        "outputId": "16bd4fe2-9809-45dd-c7db-c75ac6167b28"
      },
      "execution_count": 37,
      "outputs": [
        {
          "output_type": "stream",
          "name": "stdout",
          "text": [
            "Welcome to the Medical Q&A session! Ask your questions about medical topics.\n",
            "Type 'exit' to quit the session.\n",
            "\n",
            "Ask a question: Treatment of COVID-19\n",
            "\n",
            "Answer: Title: Treatment of COVID-19\n",
            "Abstract: COVID-19 treatment typically involves supportive care, rest, hydration, and medications for pain and fever. In some cases, antiviral medications or oxygen therapy may be needed.\n",
            "\n",
            "Ask a question: Diabetes Management\n",
            "\n",
            "Answer: Title: Diabetes Management\n",
            "Abstract: Diabetes management involves monitoring blood sugar levels, medication, diet control, and regular physical activity.\n",
            "\n",
            "Ask a question: Hypertension Treatment\n",
            "\n",
            "Answer: Title: Hypertension Treatment\n",
            "Abstract: Hypertension treatment includes lifestyle changes, medication for blood pressure control, and regular monitoring to prevent cardiovascular risks.\n",
            "\n",
            "Ask a question: Asthma Management\n",
            "\n",
            "Answer: Title: Asthma Management\n",
            "Abstract: Asthma management involves avoiding triggers, using inhalers for relief, and regular monitoring of lung function with medications like bronchodilators and corticosteroids.\n",
            "\n",
            "Ask a question: exit\n",
            "Ending the Q&A session.\n"
          ]
        }
      ]
    },
    {
      "cell_type": "code",
      "source": [],
      "metadata": {
        "id": "F_n0hNrtCyQS"
      },
      "execution_count": null,
      "outputs": []
    }
  ]
}