{
  "nbformat": 4,
  "nbformat_minor": 0,
  "metadata": {
    "colab": {
      "provenance": [],
      "authorship_tag": "ABX9TyNBX823nodmr9V35NfDrEdj",
      "include_colab_link": true
    },
    "kernelspec": {
      "name": "python3",
      "display_name": "Python 3"
    },
    "language_info": {
      "name": "python"
    }
  },
  "cells": [
    {
      "cell_type": "markdown",
      "metadata": {
        "id": "view-in-github",
        "colab_type": "text"
      },
      "source": [
        "<a href=\"https://colab.research.google.com/github/VinithaAyyanar/sdc/blob/main/multimodel.ipynb\" target=\"_parent\"><img src=\"https://colab.research.google.com/assets/colab-badge.svg\" alt=\"Open In Colab\"/></a>"
      ]
    },
    {
      "cell_type": "code",
      "source": [
        "!pip install transformers langchain sentence-transformers faiss-cpu accelerate --quiet\n",
        "!pip install torchvision torchaudio --quiet\n",
        "!pip install git+https://github.com/huggingface/llava.git@main --quiet\n",
        "!pip install Pillow --quiet\n"
      ],
      "metadata": {
        "colab": {
          "base_uri": "https://localhost:8080/"
        },
        "id": "jcLNchQkPcyG",
        "outputId": "c2a20069-193c-45fb-e6f6-447fa8a7d778"
      },
      "execution_count": 11,
      "outputs": [
        {
          "output_type": "stream",
          "name": "stdout",
          "text": [
            "  \u001b[1;31merror\u001b[0m: \u001b[1msubprocess-exited-with-error\u001b[0m\n",
            "  \n",
            "  \u001b[31m×\u001b[0m \u001b[32mgit clone --\u001b[0m\u001b[32mfilter\u001b[0m\u001b[32m=\u001b[0m\u001b[32mblob\u001b[0m\u001b[32m:none --quiet \u001b[0m\u001b[4;32mhttps://github.com/huggingface/llava.git\u001b[0m\u001b[32m \u001b[0m\u001b[32m/tmp/\u001b[0m\u001b[32mpip-req-build-pydsuuci\u001b[0m did not run successfully.\n",
            "  \u001b[31m│\u001b[0m exit code: \u001b[1;36m128\u001b[0m\n",
            "  \u001b[31m╰─>\u001b[0m See above for output.\n",
            "  \n",
            "  \u001b[1;35mnote\u001b[0m: This error originates from a subprocess, and is likely not a problem with pip.\n",
            "\u001b[1;31merror\u001b[0m: \u001b[1msubprocess-exited-with-error\u001b[0m\n",
            "\n",
            "\u001b[31m×\u001b[0m \u001b[32mgit clone --\u001b[0m\u001b[32mfilter\u001b[0m\u001b[32m=\u001b[0m\u001b[32mblob\u001b[0m\u001b[32m:none --quiet \u001b[0m\u001b[4;32mhttps://github.com/huggingface/llava.git\u001b[0m\u001b[32m \u001b[0m\u001b[32m/tmp/\u001b[0m\u001b[32mpip-req-build-pydsuuci\u001b[0m did not run successfully.\n",
            "\u001b[31m│\u001b[0m exit code: \u001b[1;36m128\u001b[0m\n",
            "\u001b[31m╰─>\u001b[0m See above for output.\n",
            "\n",
            "\u001b[1;35mnote\u001b[0m: This error originates from a subprocess, and is likely not a problem with pip.\n"
          ]
        }
      ]
    },
    {
      "cell_type": "code",
      "source": [
        "import requests\n",
        "\n",
        "def fake_image_caption(image):\n",
        "    return \"A vibe so strong, you’re the main character in your own movie. Everyone’s watching, like an X-ray exposing all the secrets. It’s giving ‘Hollywood star’ energy – lights, camera, slay!\"\n",
        "\n",
        "def fake_xray_description():\n",
        "    return \"This isn't just an image, it's a blockbuster in the making! Picture this: the lungs, like true heroes in an epic drama, fighting the villains of bilateral infiltrates and possible pneumonia. But don’t you worry, because just like in every SRK film, the hero is coming to save the day – lights, camera, action, and victory!\"\n",
        "\n",
        "# Main RAG function (Image + Text → QA)\n",
        "def multimodal_rag(image_path, question):\n",
        "    # Step 1: Get a caption from the image (Shah Rukh Khan style)\n",
        "    caption = fake_image_caption(image_path)\n",
        "    print(\"Image Caption:\", caption)\n",
        "\n",
        "    # Step 2: Use Shah Rukh Khan style for X-ray description\n",
        "    xray_description = fake_xray_description()\n",
        "    print(\"X-ray Description:\", xray_description)\n",
        "\n",
        "    # Step 3: Retrieve the most relevant context\n",
        "    query_embedding = embedder.encode([caption + \" \" + question + \" \" + xray_description])\n",
        "    D, I = index.search(np.array(query_embedding), k=1)\n",
        "    retrieved = docs[I[0][0]]\n",
        "    print(\"Retrieved Context:\", retrieved)\n",
        "\n",
        "    # Step 4: Build prompt\n",
        "    prompt = f\"Context: {retrieved}\\nQuestion: {question}\\nAnswer:\"\n",
        "\n",
        "    # Step 5: Use FLAN-T5 to answer\n",
        "    result = qa_model(prompt, max_new_tokens=100)[0][\"generated_text\"]\n",
        "    return result\n",
        "\n",
        "# Test image (replace with the correct image URL)\n",
        "img_url = \"https://example.com/shahrukh-khan-image.jpg\"  # Replace with a valid image URL\n",
        "img_path = \"test.jpg\"\n",
        "with open(img_path, \"wb\") as f:\n",
        "    f.write(requests.get(img_url).content)\n",
        "\n",
        "# Run the multimodal RAG\n",
        "question = \"What condition does the scan indicate?\"\n",
        "answer = multimodal_rag(img_path, question)\n",
        "\n",
        "print(\"\\nFinal Answer:\", answer)\n"
      ],
      "metadata": {
        "colab": {
          "base_uri": "https://localhost:8080/"
        },
        "id": "q3ZSAkPBPgcu",
        "outputId": "8b1c6bea-9ff5-4eca-d0f3-9122c3f5aadc"
      },
      "execution_count": 16,
      "outputs": [
        {
          "output_type": "stream",
          "name": "stdout",
          "text": [
            "Image Caption: A vibe so strong, you’re the main character in your own movie. Everyone’s watching, like an X-ray exposing all the secrets. It’s giving ‘Hollywood star’ energy – lights, camera, slay!\n",
            "X-ray Description: This isn't just an image, it's a blockbuster in the making! Picture this: the lungs, like true heroes in an epic drama, fighting the villains of bilateral infiltrates and possible pneumonia. But don’t you worry, because just like in every SRK film, the hero is coming to save the day – lights, camera, action, and victory!\n",
            "Retrieved Context: Chest X-ray shows bilateral infiltrates and possible pneumonia.\n",
            "\n",
            "Final Answer: (iii)\n"
          ]
        }
      ]
    }
  ]
}