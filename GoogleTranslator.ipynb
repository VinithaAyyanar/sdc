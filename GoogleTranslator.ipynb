{
  "nbformat": 4,
  "nbformat_minor": 0,
  "metadata": {
    "colab": {
      "provenance": [],
      "authorship_tag": "ABX9TyNmmHUF02hS5TdUbVjCUa/3",
      "include_colab_link": true
    },
    "kernelspec": {
      "name": "python3",
      "display_name": "Python 3"
    },
    "language_info": {
      "name": "python"
    }
  },
  "cells": [
    {
      "cell_type": "markdown",
      "metadata": {
        "id": "view-in-github",
        "colab_type": "text"
      },
      "source": [
        "<a href=\"https://colab.research.google.com/github/VinithaAyyanar/sdc/blob/main/GoogleTranslator.ipynb\" target=\"_parent\"><img src=\"https://colab.research.google.com/assets/colab-badge.svg\" alt=\"Open In Colab\"/></a>"
      ]
    },
    {
      "cell_type": "code",
      "execution_count": null,
      "metadata": {
        "colab": {
          "base_uri": "https://localhost:8080/"
        },
        "id": "gSKW6Dyw4cb3",
        "outputId": "c52ffbb5-7272-473b-a4a9-c43d914d8e07"
      },
      "outputs": [
        {
          "output_type": "stream",
          "name": "stdout",
          "text": [
            "Enter the number of samples to generate: 2\n",
            "\n",
            "Sample 1:\n",
            "Enter the number of rooms (1-10): 1\n",
            "Enter the house size in sqft (500-5000): 500\n",
            "Enter the age of the house in years (1-30): 2\n",
            "Enter the location (City A, City B, City C, City D): city A\n",
            "Invalid location. Choose between 'City A', 'City B', 'City C', or 'City D'.\n",
            "Enter the location (City A, City B, City C, City D): City \n",
            "Invalid location. Choose between 'City A', 'City B', 'City C', or 'City D'.\n",
            "Enter the location (City A, City B, City C, City D): City \n",
            "Invalid location. Choose between 'City A', 'City B', 'City C', or 'City D'.\n",
            "Enter the location (City A, City B, City C, City D): City C\n",
            "\n",
            "Sample 2:\n",
            "Enter the number of rooms (1-10): 5\n",
            "Enter the house size in sqft (500-5000): 4500\n",
            "Enter the age of the house in years (1-30): 25\n",
            "Enter the location (City A, City B, City C, City D): City C\n",
            "\n",
            "CSV file 'user_generated_house_prices.csv' has been generated!\n"
          ]
        }
      ],
      "source": [
        "import pandas as pd\n",
        "import numpy as np\n",
        "\n",
        "# Get the number of samples from the user\n",
        "n_samples = int(input(\"Enter the number of samples to generate: \"))\n",
        "\n",
        "# Initialize lists to store feature values\n",
        "rooms = []\n",
        "size = []\n",
        "house_age = []\n",
        "location = []\n",
        "\n",
        "# Get user inputs for each sample\n",
        "for i in range(n_samples):\n",
        "    print(f\"\\nSample {i + 1}:\")\n",
        "    room = int(input(\"Enter the number of rooms (1-10): \"))\n",
        "    while room < 1 or room > 10:\n",
        "        print(\"Invalid input. Number of rooms must be between 1 and 10.\")\n",
        "        room = int(input(\"Enter the number of rooms (1-10): \"))\n",
        "\n",
        "    house_size = int(input(\"Enter the house size in sqft (500-5000): \"))\n",
        "    while house_size < 500 or house_size > 5000:\n",
        "        print(\"Invalid input. House size must be between 500 and 5000 sqft.\")\n",
        "        house_size = int(input(\"Enter the house size in sqft (500-5000): \"))\n",
        "\n",
        "    age = int(input(\"Enter the age of the house in years (1-30): \"))\n",
        "    while age < 1 or age > 30:\n",
        "        print(\"Invalid input. House age must be between 1 and 30 years.\")\n",
        "        age = int(input(\"Enter the age of the house in years (1-30): \"))\n",
        "\n",
        "    loc = input(\"Enter the location (City A, City B, City C, City D): \").strip()\n",
        "    while loc not in ['City A', 'City B', 'City C', 'City D']:\n",
        "        print(\"Invalid location. Choose between 'City A', 'City B', 'City C', or 'City D'.\")\n",
        "        loc = input(\"Enter the location (City A, City B, City C, City D): \").strip()\n",
        "\n",
        "    # Append user inputs to lists\n",
        "    rooms.append(room)\n",
        "    size.append(house_size)\n",
        "    house_age.append(age)\n",
        "    location.append(loc)\n",
        "\n",
        "# Generate house prices (using a similar formula as before)\n",
        "price = (\n",
        "    50000 +\n",
        "    (np.array(rooms) * 30000) +\n",
        "    (np.array(size) * 50) -\n",
        "    (np.array(house_age) * 1000) +  # Older houses are cheaper\n",
        "    np.where(np.array(location) == 'City A', 500000, 0) +  # City A has higher base price\n",
        "    np.where(np.array(location) == 'City B', 300000, 0) +  # City B has a medium price\n",
        "    np.random.randint(10000, 50000, size=n_samples)  # Random noise for variation\n",
        ")\n",
        "\n",
        "# Create a DataFrame\n",
        "df = pd.DataFrame({\n",
        "    'rooms': rooms,\n",
        "    'size': size,\n",
        "    'house_age': house_age,\n",
        "    'location': location,\n",
        "    'price': price\n",
        "})\n",
        "\n",
        "# Save the DataFrame to a CSV file\n",
        "df.to_csv('user_generated_house_prices.csv', index=False)\n",
        "\n",
        "print(\"\\nCSV file 'user_generated_house_prices.csv' has been generated!\")\n",
        "\n"
      ]
    },
    {
      "cell_type": "markdown",
      "source": [],
      "metadata": {
        "id": "Zu-2B2mE7fcO"
      }
    },
    {
      "cell_type": "code",
      "source": [
        "import csv\n",
        "from googletrans import Translator\n",
        "\n",
        "def translate_and_save_to_csv():\n",
        "    # Initialize the translator\n",
        "    translator = Translator()\n",
        "\n",
        "    # Get user input for the text to be translated\n",
        "    text = input(\"Enter the text you want to translate: \")\n",
        "\n",
        "    # Get the source and target language codes\n",
        "    source_lang = input(\"Enter the source language code (e.g., 'en' for English): \").strip()\n",
        "    target_lang = input(\"Enter the target language code (e.g., 'fr' for French): \").strip()\n",
        "\n",
        "    # Perform the translation\n",
        "    translated = translator.translate(text, src=source_lang, dest=target_lang)\n",
        "\n",
        "    # Prepare data to write to CSV\n",
        "    data = [\n",
        "        ['Original Text', 'Translated Text', 'Source Language', 'Target Language'],\n",
        "        [text, translated.text, source_lang, target_lang]\n",
        "    ]\n",
        "\n",
        "    # Specify the CSV file name\n",
        "    filename = 'translated_texts.csv'\n",
        "\n",
        "    # Check if file exists to append or create a new one\n",
        "    try:\n",
        "        with open(filename, 'a', newline='', encoding='utf-8') as file:\n",
        "            writer = csv.writer(file)\n",
        "\n",
        "            # If the file is empty, write the header first\n",
        "            if file.tell() == 0:\n",
        "                writer.writerows(data)\n",
        "            else:\n",
        "                # Write the translated text in new row\n",
        "                writer.writerow([text, translated.text, source_lang, target_lang])\n",
        "\n",
        "            print(f\"\\nTranslation saved to {filename}\")\n",
        "\n",
        "    except Exception as e:\n",
        "        print(f\"Error saving to CSV: {e}\")\n",
        "\n",
        "# Run the function\n",
        "translate_and_save_to_csv()\n"
      ],
      "metadata": {
        "colab": {
          "base_uri": "https://localhost:8080/",
          "height": 453
        },
        "id": "uIQlQ_sYAqNH",
        "outputId": "17480ea9-304d-46b6-dafd-9c64b8a79df5"
      },
      "execution_count": null,
      "outputs": [
        {
          "output_type": "error",
          "ename": "ModuleNotFoundError",
          "evalue": "No module named 'googletrans'",
          "traceback": [
            "\u001b[0;31m---------------------------------------------------------------------------\u001b[0m",
            "\u001b[0;31mModuleNotFoundError\u001b[0m                       Traceback (most recent call last)",
            "\u001b[0;32m<ipython-input-3-d77a613bba96>\u001b[0m in \u001b[0;36m<cell line: 0>\u001b[0;34m()\u001b[0m\n\u001b[1;32m      1\u001b[0m \u001b[0;32mimport\u001b[0m \u001b[0mcsv\u001b[0m\u001b[0;34m\u001b[0m\u001b[0;34m\u001b[0m\u001b[0m\n\u001b[0;32m----> 2\u001b[0;31m \u001b[0;32mfrom\u001b[0m \u001b[0mgoogletrans\u001b[0m \u001b[0;32mimport\u001b[0m \u001b[0mTranslator\u001b[0m\u001b[0;34m\u001b[0m\u001b[0;34m\u001b[0m\u001b[0m\n\u001b[0m\u001b[1;32m      3\u001b[0m \u001b[0;34m\u001b[0m\u001b[0m\n\u001b[1;32m      4\u001b[0m \u001b[0;32mdef\u001b[0m \u001b[0mtranslate_and_save_to_csv\u001b[0m\u001b[0;34m(\u001b[0m\u001b[0;34m)\u001b[0m\u001b[0;34m:\u001b[0m\u001b[0;34m\u001b[0m\u001b[0;34m\u001b[0m\u001b[0m\n\u001b[1;32m      5\u001b[0m     \u001b[0;31m# Initialize the translator\u001b[0m\u001b[0;34m\u001b[0m\u001b[0;34m\u001b[0m\u001b[0m\n",
            "\u001b[0;31mModuleNotFoundError\u001b[0m: No module named 'googletrans'",
            "",
            "\u001b[0;31m---------------------------------------------------------------------------\u001b[0;32m\nNOTE: If your import is failing due to a missing package, you can\nmanually install dependencies using either !pip or !apt.\n\nTo view examples of installing some common dependencies, click the\n\"Open Examples\" button below.\n\u001b[0;31m---------------------------------------------------------------------------\u001b[0m\n"
          ],
          "errorDetails": {
            "actions": [
              {
                "action": "open_url",
                "actionText": "Open Examples",
                "url": "/notebooks/snippets/importing_libraries.ipynb"
              }
            ]
          }
        }
      ]
    },
    {
      "cell_type": "code",
      "source": [
        "!pip install googletrans==4.0.0-rc1"
      ],
      "metadata": {
        "colab": {
          "base_uri": "https://localhost:8080/"
        },
        "id": "hY3YwFebA3SQ",
        "outputId": "ccec6b36-c217-49ee-90aa-652c57b1f88b"
      },
      "execution_count": null,
      "outputs": [
        {
          "output_type": "stream",
          "name": "stdout",
          "text": [
            "Collecting googletrans==4.0.0-rc1\n",
            "  Downloading googletrans-4.0.0rc1.tar.gz (20 kB)\n",
            "  Preparing metadata (setup.py) ... \u001b[?25l\u001b[?25hdone\n",
            "Collecting httpx==0.13.3 (from googletrans==4.0.0-rc1)\n",
            "  Downloading httpx-0.13.3-py3-none-any.whl.metadata (25 kB)\n",
            "Requirement already satisfied: certifi in /usr/local/lib/python3.11/dist-packages (from httpx==0.13.3->googletrans==4.0.0-rc1) (2025.1.31)\n",
            "Collecting hstspreload (from httpx==0.13.3->googletrans==4.0.0-rc1)\n",
            "  Downloading hstspreload-2025.1.1-py3-none-any.whl.metadata (2.1 kB)\n",
            "Requirement already satisfied: sniffio in /usr/local/lib/python3.11/dist-packages (from httpx==0.13.3->googletrans==4.0.0-rc1) (1.3.1)\n",
            "Collecting chardet==3.* (from httpx==0.13.3->googletrans==4.0.0-rc1)\n",
            "  Downloading chardet-3.0.4-py2.py3-none-any.whl.metadata (3.2 kB)\n",
            "Collecting idna==2.* (from httpx==0.13.3->googletrans==4.0.0-rc1)\n",
            "  Downloading idna-2.10-py2.py3-none-any.whl.metadata (9.1 kB)\n",
            "Collecting rfc3986<2,>=1.3 (from httpx==0.13.3->googletrans==4.0.0-rc1)\n",
            "  Downloading rfc3986-1.5.0-py2.py3-none-any.whl.metadata (6.5 kB)\n",
            "Collecting httpcore==0.9.* (from httpx==0.13.3->googletrans==4.0.0-rc1)\n",
            "  Downloading httpcore-0.9.1-py3-none-any.whl.metadata (4.6 kB)\n",
            "Collecting h11<0.10,>=0.8 (from httpcore==0.9.*->httpx==0.13.3->googletrans==4.0.0-rc1)\n",
            "  Downloading h11-0.9.0-py2.py3-none-any.whl.metadata (8.1 kB)\n",
            "Collecting h2==3.* (from httpcore==0.9.*->httpx==0.13.3->googletrans==4.0.0-rc1)\n",
            "  Downloading h2-3.2.0-py2.py3-none-any.whl.metadata (32 kB)\n",
            "Collecting hyperframe<6,>=5.2.0 (from h2==3.*->httpcore==0.9.*->httpx==0.13.3->googletrans==4.0.0-rc1)\n",
            "  Downloading hyperframe-5.2.0-py2.py3-none-any.whl.metadata (7.2 kB)\n",
            "Collecting hpack<4,>=3.0 (from h2==3.*->httpcore==0.9.*->httpx==0.13.3->googletrans==4.0.0-rc1)\n",
            "  Downloading hpack-3.0.0-py2.py3-none-any.whl.metadata (7.0 kB)\n",
            "Downloading httpx-0.13.3-py3-none-any.whl (55 kB)\n",
            "\u001b[2K   \u001b[90m━━━━━━━━━━━━━━━━━━━━━━━━━━━━━━━━━━━━━━━━\u001b[0m \u001b[32m55.1/55.1 kB\u001b[0m \u001b[31m5.0 MB/s\u001b[0m eta \u001b[36m0:00:00\u001b[0m\n",
            "\u001b[?25hDownloading chardet-3.0.4-py2.py3-none-any.whl (133 kB)\n",
            "\u001b[2K   \u001b[90m━━━━━━━━━━━━━━━━━━━━━━━━━━━━━━━━━━━━━━━━\u001b[0m \u001b[32m133.4/133.4 kB\u001b[0m \u001b[31m5.9 MB/s\u001b[0m eta \u001b[36m0:00:00\u001b[0m\n",
            "\u001b[?25hDownloading httpcore-0.9.1-py3-none-any.whl (42 kB)\n",
            "\u001b[2K   \u001b[90m━━━━━━━━━━━━━━━━━━━━━━━━━━━━━━━━━━━━━━━━\u001b[0m \u001b[32m42.6/42.6 kB\u001b[0m \u001b[31m4.0 MB/s\u001b[0m eta \u001b[36m0:00:00\u001b[0m\n",
            "\u001b[?25hDownloading idna-2.10-py2.py3-none-any.whl (58 kB)\n",
            "\u001b[2K   \u001b[90m━━━━━━━━━━━━━━━━━━━━━━━━━━━━━━━━━━━━━━━━\u001b[0m \u001b[32m58.8/58.8 kB\u001b[0m \u001b[31m5.7 MB/s\u001b[0m eta \u001b[36m0:00:00\u001b[0m\n",
            "\u001b[?25hDownloading h2-3.2.0-py2.py3-none-any.whl (65 kB)\n",
            "\u001b[2K   \u001b[90m━━━━━━━━━━━━━━━━━━━━━━━━━━━━━━━━━━━━━━━━\u001b[0m \u001b[32m65.0/65.0 kB\u001b[0m \u001b[31m6.8 MB/s\u001b[0m eta \u001b[36m0:00:00\u001b[0m\n",
            "\u001b[?25hDownloading rfc3986-1.5.0-py2.py3-none-any.whl (31 kB)\n",
            "Downloading hstspreload-2025.1.1-py3-none-any.whl (1.3 MB)\n",
            "\u001b[2K   \u001b[90m━━━━━━━━━━━━━━━━━━━━━━━━━━━━━━━━━━━━━━━━\u001b[0m \u001b[32m1.3/1.3 MB\u001b[0m \u001b[31m24.2 MB/s\u001b[0m eta \u001b[36m0:00:00\u001b[0m\n",
            "\u001b[?25hDownloading h11-0.9.0-py2.py3-none-any.whl (53 kB)\n",
            "\u001b[2K   \u001b[90m━━━━━━━━━━━━━━━━━━━━━━━━━━━━━━━━━━━━━━━━\u001b[0m \u001b[32m53.6/53.6 kB\u001b[0m \u001b[31m4.9 MB/s\u001b[0m eta \u001b[36m0:00:00\u001b[0m\n",
            "\u001b[?25hDownloading hpack-3.0.0-py2.py3-none-any.whl (38 kB)\n",
            "Downloading hyperframe-5.2.0-py2.py3-none-any.whl (12 kB)\n",
            "Building wheels for collected packages: googletrans\n",
            "  Building wheel for googletrans (setup.py) ... \u001b[?25l\u001b[?25hdone\n",
            "  Created wheel for googletrans: filename=googletrans-4.0.0rc1-py3-none-any.whl size=17397 sha256=8b4dd8ffd3023c5107e1645cd3091de99c9e030a2aa3e7eeb06f18cf24ba6f17\n",
            "  Stored in directory: /root/.cache/pip/wheels/39/17/6f/66a045ea3d168826074691b4b787b8f324d3f646d755443fda\n",
            "Successfully built googletrans\n",
            "Installing collected packages: rfc3986, hyperframe, hpack, h11, chardet, idna, hstspreload, h2, httpcore, httpx, googletrans\n",
            "  Attempting uninstall: hyperframe\n",
            "    Found existing installation: hyperframe 6.1.0\n",
            "    Uninstalling hyperframe-6.1.0:\n",
            "      Successfully uninstalled hyperframe-6.1.0\n",
            "  Attempting uninstall: hpack\n",
            "    Found existing installation: hpack 4.1.0\n",
            "    Uninstalling hpack-4.1.0:\n",
            "      Successfully uninstalled hpack-4.1.0\n",
            "  Attempting uninstall: h11\n",
            "    Found existing installation: h11 0.14.0\n",
            "    Uninstalling h11-0.14.0:\n",
            "      Successfully uninstalled h11-0.14.0\n",
            "  Attempting uninstall: chardet\n",
            "    Found existing installation: chardet 5.2.0\n",
            "    Uninstalling chardet-5.2.0:\n",
            "      Successfully uninstalled chardet-5.2.0\n",
            "  Attempting uninstall: idna\n",
            "    Found existing installation: idna 3.10\n",
            "    Uninstalling idna-3.10:\n",
            "      Successfully uninstalled idna-3.10\n",
            "  Attempting uninstall: h2\n",
            "    Found existing installation: h2 4.2.0\n",
            "    Uninstalling h2-4.2.0:\n",
            "      Successfully uninstalled h2-4.2.0\n",
            "  Attempting uninstall: httpcore\n",
            "    Found existing installation: httpcore 1.0.7\n",
            "    Uninstalling httpcore-1.0.7:\n",
            "      Successfully uninstalled httpcore-1.0.7\n",
            "  Attempting uninstall: httpx\n",
            "    Found existing installation: httpx 0.28.1\n",
            "    Uninstalling httpx-0.28.1:\n",
            "      Successfully uninstalled httpx-0.28.1\n",
            "\u001b[31mERROR: pip's dependency resolver does not currently take into account all the packages that are installed. This behaviour is the source of the following dependency conflicts.\n",
            "openai 1.61.1 requires httpx<1,>=0.23.0, but you have httpx 0.13.3 which is incompatible.\n",
            "langsmith 0.3.13 requires httpx<1,>=0.23.0, but you have httpx 0.13.3 which is incompatible.\n",
            "google-genai 1.4.0 requires httpx<1.0.0dev,>=0.28.1, but you have httpx 0.13.3 which is incompatible.\u001b[0m\u001b[31m\n",
            "\u001b[0mSuccessfully installed chardet-3.0.4 googletrans-4.0.0rc1 h11-0.9.0 h2-3.2.0 hpack-3.0.0 hstspreload-2025.1.1 httpcore-0.9.1 httpx-0.13.3 hyperframe-5.2.0 idna-2.10 rfc3986-1.5.0\n"
          ]
        }
      ]
    },
    {
      "cell_type": "code",
      "source": [
        "import csv\n",
        "from googletrans import Translator\n",
        "\n",
        "def translate_and_save_to_csv():\n",
        "    # Initialize the translator\n",
        "    translator = Translator()\n",
        "\n",
        "    # Get user input for the text to be translated\n",
        "    text = input(\"Enter the text you want to translate: \")\n",
        "\n",
        "    # Get the source and target language codes\n",
        "    source_lang = input(\"Enter the source language code (e.g., 'en' for English): \").strip()\n",
        "    target_lang = input(\"Enter the target language code (e.g., 'fr' for French): \").strip()\n",
        "\n",
        "    # Perform the translation\n",
        "    translated = translator.translate(text, src=source_lang, dest=target_lang)\n",
        "\n",
        "    # Prepare data to write to CSV\n",
        "    data = [\n",
        "        ['Original Text', 'Translated Text', 'Source Language', 'Target Language'],\n",
        "        [text, translated.text, source_lang, target_lang]\n",
        "    ]\n",
        "\n",
        "    # Specify the CSV file name\n",
        "    filename = 'translated_texts.csv'\n",
        "\n",
        "    # Check if file exists to append or create a new one\n",
        "    try:\n",
        "        with open(filename, 'a', newline='', encoding='utf-8') as file:\n",
        "            writer = csv.writer(file)\n",
        "\n",
        "            # If the file is empty, write the header first\n",
        "            if file.tell() == 0:\n",
        "                writer.writerows(data)\n",
        "            else:\n",
        "                # Write the translated text in new row\n",
        "                writer.writerow([text, translated.text, source_lang, target_lang])\n",
        "\n",
        "            print(f\"\\nTranslation saved to {filename}\")\n",
        "\n",
        "    except Exception as e:\n",
        "        print(f\"Error saving to CSV: {e}\")\n",
        "\n",
        "# Run the function\n",
        "translate_and_save_to_csv()\n"
      ],
      "metadata": {
        "colab": {
          "base_uri": "https://localhost:8080/"
        },
        "id": "v2AC2WwMA7xR",
        "outputId": "9840d46b-1436-466f-8300-6e70e4a5d0c6"
      },
      "execution_count": null,
      "outputs": [
        {
          "output_type": "stream",
          "name": "stdout",
          "text": [
            "Enter the text you want to translate: hey people\n",
            "Enter the source language code (e.g., 'en' for English): en\n",
            "Enter the target language code (e.g., 'fr' for French): fr\n",
            "\n",
            "Translation saved to translated_texts.csv\n"
          ]
        }
      ]
    },
    {
      "cell_type": "code",
      "source": [
        "import csv\n",
        "from googletrans import Translator\n",
        "\n",
        "def translate_and_display_to_csv():\n",
        "    # Initialize the translator\n",
        "    translator = Translator()\n",
        "\n",
        "    # Get user input for the text to be translated\n",
        "    text = input(\"Enter the text you want to translate: \")\n",
        "\n",
        "    # Get the source and target language codes\n",
        "    source_lang = input(\"Enter the source language code (e.g., 'en' for English): \").strip()\n",
        "    target_lang = input(\"Enter the target language code (e.g., 'fr' for French): \").strip()\n",
        "\n",
        "    # Perform the translation\n",
        "    translated = translator.translate(text, src=source_lang, dest=target_lang)\n",
        "\n",
        "    # Prepare data to write to CSV\n",
        "    data = [\n",
        "        ['Original Text', 'Translated Text', 'Source Language', 'Target Language'],\n",
        "        [text, translated.text, source_lang, target_lang]\n",
        "    ]\n",
        "\n",
        "    # Specify the CSV file name\n",
        "    filename = 'translated_texts.csv'\n",
        "\n",
        "    # Check if file exists to append or create a new one\n",
        "    try:\n",
        "        with open(filename, 'a', newline='', encoding='utf-8') as file:\n",
        "            writer = csv.writer(file)\n",
        "\n",
        "            # If the file is empty, write the header first\n",
        "            if file.tell() == 0:\n",
        "                writer.writerows(data)\n",
        "            else:\n",
        "                # Write the translated text in a new row\n",
        "                writer.writerow([text, translated.text, source_lang, target_lang])\n",
        "\n",
        "            print(f\"\\nTranslation saved to {filename}\")\n",
        "\n",
        "    except Exception as e:\n",
        "        print(f\"Error saving to CSV: {e}\")\n",
        "\n",
        "    # Display the translated text in the console\n",
        "    print(f\"\\nOriginal Text: {text}\")\n",
        "    print(f\"Translated Text: {translated.text}\")\n",
        "    print(f\"Source Language: {source_lang}\")\n",
        "    print(f\"Target Language: {target_lang}\")\n",
        "\n",
        "# Run the function\n",
        "translate_and_display_to_csv()\n"
      ],
      "metadata": {
        "colab": {
          "base_uri": "https://localhost:8080/"
        },
        "id": "C4hPQ8-1CCMT",
        "outputId": "973c223f-c708-4e6a-8ef7-eca65550c1e1"
      },
      "execution_count": null,
      "outputs": [
        {
          "output_type": "stream",
          "name": "stdout",
          "text": [
            "Enter the text you want to translate: HEY MAN\n",
            "Enter the source language code (e.g., 'en' for English): en\n",
            "Enter the target language code (e.g., 'fr' for French): fr\n",
            "\n",
            "Translation saved to translated_texts.csv\n",
            "\n",
            "Original Text: HEY MAN\n",
            "Translated Text: Hey mec\n",
            "Source Language: en\n",
            "Target Language: fr\n"
          ]
        }
      ]
    }
  ]
}